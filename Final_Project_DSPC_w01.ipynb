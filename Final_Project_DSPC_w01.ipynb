{
 "cells": [
  {
   "cell_type": "markdown",
   "metadata": {},
   "source": [
    "# Final Capstone Project\n",
    "## Best location for a restaurant among top 12 cities worldwide\n",
    "\n",
    "#### by Ignacio de Juan\n",
    "#### November 2020, Final Project Assignment for IBM Data Science Course\n",
    "\n",
    "### Introduction / Business Problem\n",
    "\n",
    "We need to take the decision of where is the best location to open a new restaurant of a certain cuisine (e.g. Italian, Japanese, Spanish, etc). Which are the cities with a highest potential based on the level of concentration of certain cuisine and the demand of each cuisine based also on the assessment of the existing restaurants? If possible, provide with a recommendation for the location of the restaurant and the cuisine that would be likely to be more successful."
   ]
  },
  {
   "cell_type": "markdown",
   "metadata": {},
   "source": [
    "### Data\n",
    "\n",
    "We will take data from 12 top cities worldwide.\n",
    "\n",
    "The criteria to select those cities is to choose among cities that have a similar GDP per capita and a large enough base of restaurants so that the study is statistically significant.\n",
    "\n",
    "We will be using Wikipedia to identify the target cities of our study and Foursquare as our database of venue data."
   ]
  },
  {
   "cell_type": "code",
   "execution_count": null,
   "metadata": {},
   "outputs": [],
   "source": []
  }
 ],
 "metadata": {
  "kernelspec": {
   "display_name": "Python 3",
   "language": "python",
   "name": "python3"
  },
  "language_info": {
   "codemirror_mode": {
    "name": "ipython",
    "version": 3
   },
   "file_extension": ".py",
   "mimetype": "text/x-python",
   "name": "python",
   "nbconvert_exporter": "python",
   "pygments_lexer": "ipython3",
   "version": "3.8.3"
  }
 },
 "nbformat": 4,
 "nbformat_minor": 4
}
