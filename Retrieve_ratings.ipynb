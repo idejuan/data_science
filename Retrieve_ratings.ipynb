{
 "cells": [
  {
   "cell_type": "code",
   "execution_count": null,
   "metadata": {},
   "outputs": [],
   "source": [
    "# We will use Foursquare Python API Library https://github.com/mLewisLogic/foursquare\n",
    "#!pip install foursquare\n",
    "# Credentials file\n",
    "%load_ext dotenv\n",
    "%dotenv\n",
    "\n",
    "import os\n",
    "import foursquare\n",
    "import json\n",
    "import pandas as pd\n",
    "\n",
    "\n",
    "# Foursquare API credentials and endpoint\n",
    "\n",
    "def start_fs_client(n):\n",
    "    \n",
    "    global CLIENT_ID\n",
    "    global CLIENT_SECRET\n",
    "    global VERSION\n",
    "    global client\n",
    "    CLIENT_ID = os.getenv(\"CLIENT_ID_\"+str(n))\n",
    "    CLIENT_SECRET = os.getenv(\"CLIENT_SECRET_\"+str(n))\n",
    "    VERSION = '20200616'\n",
    "    client = foursquare.Foursquare(client_id=CLIENT_ID, client_secret=CLIENT_SECRET, version=VERSION)\n"
   ]
  },
  {
   "cell_type": "code",
   "execution_count": null,
   "metadata": {},
   "outputs": [],
   "source": [
    "# Siguientes pasos: hacer las queries a Foursquare para sacar los códigos de cada ciudad\n",
    "start_fs_client(1)\n",
    "rest_list.clear()\n",
    "rest_list = []\n",
    "cities = ['New York City', 'Los Angeles', 'Chicago', 'Houston', 'Phoenix', 'Philadelphia', 'San Antonio', 'San Diego', 'Dallas', 'San Jose', 'Austin', 'Jacksonville', 'Fort Worth', 'Columbus', 'Charlotte', 'San Francisco', 'Indianapolis', 'Seattle', 'Denver', 'Washington', 'Boston', 'El Paso', 'Nashville', 'Detroit', 'Oklahoma City', 'Portland', 'Las Vegas', 'Memphis', 'Louisville', 'Baltimore', 'Milwaukee', 'Albuquerque', 'Tucson', 'Fresno', 'Mesa', 'Sacramento', 'Atlanta', 'Kansas City', 'Colorado Springs', 'Omaha', 'Raleigh', 'Miami', 'Long Beach', 'Virginia Beach', 'Oakland', 'Minneapolis', 'Tulsa', 'Tampa', 'Arlington', 'New Orleans', 'Wichita', 'Bakersfield', 'Cleveland', 'Aurora', 'Anaheim', 'Honolulu', 'Santa Ana', 'Riverside', 'Corpus Christi', 'Lexington', 'Henderson', 'Stockton', 'Saint Paul', 'Cincinnati', 'St. Louis', 'Pittsburgh', 'Greensboro', 'Lincoln', 'Anchorage', 'Plano', 'Orlando', 'Irvine', 'Newark', 'Durham', 'Chula Vista', 'Toledo', 'Fort Wayne', 'St. Petersburg', 'Laredo', 'Jersey City', 'Chandler', 'Madison', 'Lubbock', 'Scottsdale', 'Reno', 'Buffalo', 'Gilbert', 'Glendale', 'North Las Vegas', 'Winston–Salem', 'Chesapeake', 'Norfolk', 'Fremont', 'Garland', 'Irving', 'Hialeah', 'Richmond', 'Boise', 'Spokane', 'Baton Rouge']\n",
    "#cities = ['New York City', 'Los Angeles','Chesapeake', 'Chicago', 'Houston', 'Phoenix', 'Philadelphia','San Antonio', 'San Diego', 'Dallas', 'San Jose', 'Austin', 'Jacksonville',  ]\n",
    "#cities = ['New York City']\n",
    "cities = ['Chesapeake','Norfolk','Fremont','Garland'\n",
    "          ,'Irving','Hialeah','Richmond','Boise','Spokane','Baton Rouge','Winston-Salem, NC, United States']\n",
    "for city in cities:\n",
    "    print(city)\n",
    "    result = []\n",
    "    result = client.venues.search(params={'categoryId': '4bf58dd8d48988d110941735', 'near': city, 'limit' : '100'})\n",
    "    #print(result)\n",
    "    n = 0\n",
    "    for item in result['venues']:\n",
    "        id = result['venues'][n]['id']\n",
    "        #print(id)\n",
    "        try:\n",
    "            city_fs = result['venues'][n]['location']['city']\n",
    "        except :KeyError\n",
    "        city_fs = city\n",
    "        n = n+1\n",
    "        rest_list.append([city_fs,id])\n",
    "        #print (n)\n",
    "        print(id, city)\n",
    "#print (rest_list)"
   ]
  },
  {
   "cell_type": "code",
   "execution_count": null,
   "metadata": {},
   "outputs": [],
   "source": [
    "# The following algorithm will get the number of the position in the list of each city\n",
    "\n",
    "n = 0\n",
    "only_cities = str()\n",
    "only_cities_last = str()\n",
    "new = str()\n",
    "numbers = []\n",
    "for item in rest_list:\n",
    "    #print (rest_list[n][0])\n",
    "    new = rest_list[n][0]\n",
    "    if (new != only_cities_last):\n",
    "        numbers.append(n)\n",
    "    #only_cities = only_cities + ',' + rest_list[n][0]  \n",
    "    only_cities_last = new\n",
    "    n+=1\n",
    "print(numbers)"
   ]
  },
  {
   "cell_type": "code",
   "execution_count": null,
   "metadata": {},
   "outputs": [],
   "source": [
    "# This code retrieves from Foursquare the first 10 ratings for each city\n",
    "\n",
    "start_fs_client(1)\n",
    "\n",
    "# Uncomment the following line to retrieve only for a limited number of cities\n",
    "# numbers = [0,50,100,150,199,249,298,347,375,401,442] \n",
    "\n",
    "for item in numbers:\n",
    "    for n in range(item,item+10):\n",
    "        if (len(rest_list[n])<3):\n",
    "            try:\n",
    "                rating = client.venues(rest_list[n][1])['venue']['rating']\n",
    "            except:\n",
    "                continue\n",
    "            rest_list[n].append(rating)\n",
    "            print (n,rest_list[n][0],rating)\n",
    "        n+=1"
   ]
  },
  {
   "cell_type": "code",
   "execution_count": null,
   "metadata": {},
   "outputs": [],
   "source": [
    "# Transforms the list into a DataFrame\n",
    "df = pd.DataFrame(rest_list, columns = ['city','id','rating'])\n",
    "df.head()"
   ]
  },
  {
   "cell_type": "code",
   "execution_count": null,
   "metadata": {},
   "outputs": [],
   "source": [
    "# Calculates the average rating for each city and puts it in a list\n",
    "\n",
    "df_avg_ratings = df_ratings.groupby('city', as_index = False).mean().round(2)\n",
    "has_rating = df_avg_ratings['rating']>0\n",
    "\n",
    "df_avg_ratings.head()\n",
    "df_ratings_valid = df_avg_ratings[has_rating]\n",
    "df_ratings_valid.head(100).sort_values(by = 'rating', ascending = False)\n",
    "#df_ratings_valid.shape\n",
    "#print(df_ratings_valid)\n",
    "df_ratings_valid.values.tolist()\n",
    "#df_ratings_valid.plot.bar(x = 'city', y ='rating')"
   ]
  }
 ],
 "metadata": {
  "kernelspec": {
   "display_name": "Python 3",
   "language": "python",
   "name": "python3"
  },
  "language_info": {
   "codemirror_mode": {
    "name": "ipython",
    "version": 3
   },
   "file_extension": ".py",
   "mimetype": "text/x-python",
   "name": "python",
   "nbconvert_exporter": "python",
   "pygments_lexer": "ipython3",
   "version": "3.8.3"
  }
 },
 "nbformat": 4,
 "nbformat_minor": 4
}
